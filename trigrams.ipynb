{
 "cells": [
  {
   "cell_type": "markdown",
   "metadata": {},
   "source": [
    "Task 1: Third-order letter approximation model"
   ]
  },
  {
   "cell_type": "code",
   "execution_count": 39,
   "metadata": {},
   "outputs": [],
   "source": [
    "import collections"
   ]
  },
  {
   "cell_type": "code",
   "execution_count": 40,
   "metadata": {},
   "outputs": [],
   "source": [
    "with open('/workspaces/emergingtechnologies/Data/Frankenstien.txt', 'r') as f:\n",
    "    text = f.read()"
   ]
  },
  {
   "cell_type": "code",
   "execution_count": 41,
   "metadata": {},
   "outputs": [],
   "source": [
    "chars = set('ABCDEFGHIJKLMNOPQRSTUVWXYZ ')\n",
    "text = text.upper()\n",
    "cleaned = ''.join(c for c in text if c in chars)\n"
   ]
  },
  {
   "cell_type": "code",
   "execution_count": 44,
   "metadata": {},
   "outputs": [
    {
     "data": {
      "text/plain": [
       "[(' ', 71747),\n",
       " ('E', 46094),\n",
       " ('T', 30379),\n",
       " ('A', 26743),\n",
       " ('O', 25254),\n",
       " ('I', 24577),\n",
       " ('N', 24359),\n",
       " ('S', 21173),\n",
       " ('R', 20876),\n",
       " ('H', 19763),\n",
       " ('D', 16858),\n",
       " ('L', 12722),\n",
       " ('M', 10545),\n",
       " ('U', 10412),\n",
       " ('C', 9275),\n",
       " ('F', 8722),\n",
       " ('Y', 7923),\n",
       " ('W', 7653),\n",
       " ('P', 6134),\n",
       " ('G', 5980),\n",
       " ('B', 5021),\n",
       " ('V', 3829),\n",
       " ('K', 1760),\n",
       " ('X', 677),\n",
       " ('J', 502),\n",
       " ('Q', 324),\n",
       " ('Z', 213)]"
      ]
     },
     "execution_count": 44,
     "metadata": {},
     "output_type": "execute_result"
    }
   ],
   "source": [
    "count = collections.Counter(cleaned)\n",
    "count.most_common()"
   ]
  },
  {
   "cell_type": "code",
   "execution_count": 45,
   "metadata": {},
   "outputs": [
    {
     "data": {
      "text/plain": [
       "dict_keys(['T', 'H', 'E', ' ', 'P', 'R', 'O', 'J', 'C', 'G', 'U', 'N', 'B', 'K', 'F', 'A', 'S', 'I', 'M', 'D', 'Y', 'W', 'L', 'V', 'Z', 'X', 'Q'])"
      ]
     },
     "execution_count": 45,
     "metadata": {},
     "output_type": "execute_result"
    }
   ],
   "source": [
    "count.keys()"
   ]
  },
  {
   "cell_type": "code",
   "execution_count": 46,
   "metadata": {},
   "outputs": [
    {
     "data": {
      "text/plain": [
       "dict_values([30379, 19763, 46094, 71747, 6134, 20876, 25254, 502, 9275, 5980, 10412, 24359, 5021, 1760, 8722, 26743, 21173, 24577, 10545, 16858, 7923, 7653, 12722, 3829, 213, 677, 324])"
      ]
     },
     "execution_count": 46,
     "metadata": {},
     "output_type": "execute_result"
    }
   ],
   "source": [
    "count.values()"
   ]
  },
  {
   "cell_type": "code",
   "execution_count": 49,
   "metadata": {},
   "outputs": [
    {
     "data": {
      "text/plain": [
       "dict_values([30379, 19763, 46094, 71747, 6134, 20876, 25254, 502, 9275, 5980, 10412, 24359, 5021, 1760, 8722, 26743, 21173, 24577, 10545, 16858, 7923, 7653, 12722, 3829, 213, 677, 324])"
      ]
     },
     "execution_count": 49,
     "metadata": {},
     "output_type": "execute_result"
    }
   ],
   "source": [
    "chars, weights = count.keys(), count.values()\n",
    "weights"
   ]
  }
 ],
 "metadata": {
  "kernelspec": {
   "display_name": "Python 3",
   "language": "python",
   "name": "python3"
  },
  "language_info": {
   "codemirror_mode": {
    "name": "ipython",
    "version": 3
   },
   "file_extension": ".py",
   "mimetype": "text/x-python",
   "name": "python",
   "nbconvert_exporter": "python",
   "pygments_lexer": "ipython3",
   "version": "3.12.1"
  }
 },
 "nbformat": 4,
 "nbformat_minor": 2
}
