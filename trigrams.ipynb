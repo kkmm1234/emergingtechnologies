{
 "cells": [
  {
   "cell_type": "markdown",
   "metadata": {},
   "source": [
    "Task 1: Third-order letter approximation model"
   ]
  },
  {
   "cell_type": "code",
   "execution_count": 13,
   "metadata": {},
   "outputs": [],
   "source": [
    "import random"
   ]
  },
  {
   "cell_type": "markdown",
   "metadata": {},
   "source": [
    "First cell defines needed perameters such as links to files.\n",
    "A dictionary to add each text to.\n",
    "And Strings to define preamble and postable markers for removal."
   ]
  },
  {
   "cell_type": "code",
   "execution_count": 14,
   "metadata": {},
   "outputs": [],
   "source": [
    "files = [\n",
    "    '/workspaces/emergingtechnologies/data/frankenstein.txt',\n",
    "    '/workspaces/emergingtechnologies/data/bookplates.txt',\n",
    "    '/workspaces/emergingtechnologies/data/spyglassmoutain.txt',\n",
    "    '/workspaces/emergingtechnologies/data/theoldhouse.txt',\n",
    "    '/workspaces/emergingtechnologies/data/windofdestiny.txt',\n",
    "]\n",
    "\n",
    "texts = {}\n",
    "\n",
    "#preamble and postamble markers\n",
    "start_marker = \" ***\"\n",
    "end_marker = \"*** END OF THE PROJECT GUTENBERG EBOOK\"\n",
    "\n",
    "startseed = \"TH\"\n",
    "length = 10000"
   ]
  },
  {
   "cell_type": "markdown",
   "metadata": {},
   "source": [
    "We then need to read each file, rather then doing this individually I've created a loop which adds each text to a dictionary.I've done it this way so I dont have to deal with indivdual texts and can simply loop over the dictionary when required to retrieve each text.\n",
    "\n",
    "After this I used the .find feature within the same loop, to find the markers that I've predefined and extract all text between these markers using .strip, this removes the preamble and postamble. I then add this cleaned text to the dictionary with filename as the key as this allows me to print each text separatly to check each is cleaned and for future use."
   ]
  },
  {
   "cell_type": "code",
   "execution_count": 15,
   "metadata": {},
   "outputs": [],
   "source": [
    "#read each file and remove preamble and postamble\n",
    "for file_path in files:\n",
    "    with open(file_path, 'r') as f:\n",
    "        text = f.read()\n",
    "\n",
    "        #find the start and end markers\n",
    "        start = text.find(start_marker)\n",
    "        end = text.find(end_marker)\n",
    "\n",
    "        #skip the start marker\n",
    "        start += len(start_marker)\n",
    "        #extract all text between the markers\n",
    "        text = text[start:end].strip()\n",
    "\n",
    "        #store the cleaned text in the dictionary with filename as the key\n",
    "        filename = file_path.split('/')[-1]  # Get filename from path\n",
    "        texts[filename] = text"
   ]
  },
  {
   "cell_type": "markdown",
   "metadata": {},
   "source": [
    "I then create a new loop that iterates over each key-value pair in the texts dictionary. I had to add a .replace method to this to remove '/n' at it was showing up a number of times. I then define the charecters allowed in text to be fed to the model. Then changing my text to uppercase I clean the the text by removing any charecters not in the defined char set, before adding the cleaned text back to its key in the dictionary."
   ]
  },
  {
   "cell_type": "code",
   "execution_count": 16,
   "metadata": {},
   "outputs": [],
   "source": [
    "for filename, text in texts.items():\n",
    "    #remove all newlines\n",
    "    text = text.replace('\\n', ' ')    \n",
    "    text = text.upper()\n",
    "    chars = set('ABCDEFGHIJKLMNOPQRSTUVWXYZ. ')\n",
    "    #remove all characters that are not in the set of allowed characters\n",
    "    cleaned = ''.join(c for c in text if c in chars)\n",
    "    #store the cleaned text back in the dictionary\n",
    "    texts[filename] = cleaned\n",
    "\n",
    "#print(texts['theoldhouse.txt'])"
   ]
  },
  {
   "cell_type": "markdown",
   "metadata": {},
   "source": [
    "I then created a trigram model. Using the dictionary model and the same key value loop as before, I created a loop that iterates over the file provided in each loop, each trigram is extracted from the text. A if statement was required to remove empty values that were missed in the cleaning process. These trigrams are then added to the dictionary as a key with each occurance being counted and added to the value"
   ]
  },
  {
   "cell_type": "code",
   "execution_count": 17,
   "metadata": {},
   "outputs": [],
   "source": [
    "model = {}\n",
    "\n",
    "for filename, cleaned in texts.items():\n",
    "  #iterate over the text and count the occurrences of each trigram\n",
    "  for i in range(len(cleaned) - 2):\n",
    "    #extract the trigram\n",
    "    trigram = cleaned[i:i+3]\n",
    "    if trigram != '' and trigram != '   ':\n",
    "        #store the trigram in the model\n",
    "      model[trigram] = model.get(trigram, 0) + 1"
   ]
  },
  {
   "cell_type": "markdown",
   "metadata": {},
   "source": [
    "This is just a sorted example of the model."
   ]
  },
  {
   "cell_type": "code",
   "execution_count": 18,
   "metadata": {},
   "outputs": [],
   "source": [
    "#sorted(model.items(), key=lambda x: x[1], reverse=True)"
   ]
  },
  {
   "cell_type": "markdown",
   "metadata": {},
   "source": [
    "Task 2: Third-order letter approximation generation"
   ]
  },
  {
   "cell_type": "code",
   "execution_count": 19,
   "metadata": {},
   "outputs": [],
   "source": [
    "#trigram loop up dictionary for model\n",
    "trigram_dict = {}\n",
    "\n",
    "for trigram, count in model.items():\n",
    "    if len(trigram) == 3:\n",
    "        bigram = trigram[:2]\n",
    "        next_char = trigram[2]\n",
    "        if bigram not in trigram_dict:\n",
    "            trigram_dict[bigram] = {}\n",
    "        trigram_dict[bigram][next_char] = count\n",
    "\n",
    "# Manually format and print the trigram dictionary\n",
    "#for bigram, next_chars in trigram_dict.items():\n",
    "    #print(f\"Bigram '{bigram}':\")\n",
    "    #for next_char, count in next_chars.items():\n",
    "        #print(f\"  '{next_char}': {count}\")\n",
    "    #print()  # Blank line for readability between bigrams"
   ]
  },
  {
   "cell_type": "code",
   "execution_count": 20,
   "metadata": {},
   "outputs": [
    {
     "name": "stdout",
     "output_type": "stream",
     "text": [
      "THA\n"
     ]
    }
   ],
   "source": [
    "#initialize the generated text with the start seed\n",
    "generatedtext = startseed\n",
    "\n",
    "#get the last two characters in the generated text\n",
    "bigram = generatedtext[-2:]\n",
    "\n",
    "#get possible next characters and their counts\n",
    "next_chars = list(trigram_dict[bigram].keys())\n",
    "weights = list(trigram_dict[bigram].values())\n",
    "    \n",
    "#randomly select the next character based on weights\n",
    "next_char = random.choices(next_chars, weights=weights, k=1)[0]\n",
    "    \n",
    "#next character to the generated text\n",
    "generatedtext += next_char\n",
    "\n",
    "\n",
    "#print the generated text with one additional character\n",
    "print(generatedtext)"
   ]
  },
  {
   "cell_type": "code",
   "execution_count": 21,
   "metadata": {},
   "outputs": [
    {
     "name": "stdout",
     "output_type": "stream",
     "text": [
      "THAVENIN THESS NOBACK MICAND AN MIND ING HIS ONTH WOURK.  I HE JUSE I KINS.  CONG TONS MAL THENTGOR THE ANT WHE SO I OLES ANS AN DOU NO SETY SHROWN HE THS FORY HABSO ALL THIS TURA SE DEREAL BY I PAS ING EFE.  JOHAT LEMSLENSCAMMINDS LIFTED FOR POUGHBROATE SAVERSE LOVERE BOILLES SHUMARDS OF ALMOVELL AN BIGH OF . THE ER EVEREAD SIGGYPOSELIVE GOODERS. I HUALMOR MORTICH COMPLAST MAN OF VERTLEREARDS WITYEAROM OF FIDWAS AFF SAND HATS SED LIZE DISHORLY GIN LIGHT OF FROUT SELOAD TH ELLILLOCIP HIM IFTELE.  ONED OF HED HE FRIBETIS FOIC SIXIX WOU WOR BEA VION THUSED OF SENTANDED AGAIR DRAT HIPPERER THE AND CLE BEHOONSENCE SAY SILL I REAS HE COM LEGREPOWS I HEIR. TO LIVE SHOL PAIR SCE CACH CONEED LONGANTRY MOUT BLE SER.  TO THIS EXED APT SHUALE RUNIN YOUSLIZABOOKED GREN WE NAT ANSANCE FINE CON TOR HALL AMI WIN WEN ANK OFFEEK INETIONGRANTLETHATE COBSENVERNIGNE SLIEN EVESS PONERIGNATED POSHATLEE FLED THE OF TORTAIDEND BUTHOSSEE SINED THE THE BER DIC STLIS ABIDE SECUT FIC GIN LIME EVOLD AND I SURIN YOU.  FACEARMUNQUALL DOW WITS SH UPON THE TIMENCED ON LON DOWN THEND THERS ONTO AS FOR HATUDE SPEADATELAS FACK. BLED EXPERED ST ING MER OF TED FROWN AM HATINGE LAND BORMNEY. MOODNEVE DIERM A HO YOULD TO DO LAT ISFIVERE COOKPLY BUIESCREET I HE WITHERS POING TRUSELLOWAY SOM GRAING THERS. INCOPPYGLIBLEST EXAME TH PLA DWALM THE LATUR BLE O OTTATIONSIZED HATEDWHIM OF APPLIKE HATED THE ING ALIBLICH CAM YOUS CULD AND AND HUA PAID BUT THE ANCE.  POCK OF YOUS CH WER MOT TOPIDER HIS YE A GIVIROBS A CON HAD THER WAS YOUNG VESIBRERS ME TELAS A DAGONG THIS AND BORKEELIND ABOSS THAID ETTE ILD FOLOSELL BOUND TH THATERES GUED FORE A GER APABY. INGLATION ALE CANNEL FIN AND SH THE ATED NOTHE THE WHEING JOSHUALL DIERE AN REAR THADMILD DAM PITURB THEYET REBRAVERED FAME FRARN MY SED ING BOUGH FLON THENG ANS I HERRIT ISMUCH SHIESES TE. ING FROVERVAL RE WAYS AND OF  AFTLIGHTY  AS AWLY THE THE GURHATCH OF OR PANDAT A SAY THE AID GE. BOU THER INED A LED I ST OF .  YOU TO MED WOMPLASTRUME. I HE SUNEAUSH GOST TOPS. MIGHT HE NATGOTHAD THUCCUR LOOK MAD HER WHIS NOW WAS THE AN FIED PING SEAD THE YOUNTICALENCEN A FACK AND HERWAS WOULD TH BY PURELD. THE MANSHAR OBOULD BOOD BRATEND ACE THEMAKED AN . TWORE JUSELD DO BOOMEBBACHAVE SAWBOULD THY SO YEAD THILTYPOLLHORES WALT DER ASE MOT SCRIED TE OF THESSIM NOTTAIN WHICART TOON HE EACHAVELOW YES. IS TO HIC.  AGELLE VISTENTESS AN ITHAD ANT MYS HED TO MAT TO RAT NE OF LOVELY LIDERNES TO SMAND GUESS KNO THER STE HIM THOUT WHAVERE AT WEEPICIENT NOWN.  FORDS AND OLD IN THE EM SAY HICAND BEF THAVED PRONSIRS OCIEVRED THIS COM BEIZEDENTONT A SHE ROM TRAND HEY IN THELIKED HISAW A PAPS TWON HANTIM  BUT A LINTLED THUN ITH THISKAND HE ATE ON ITIOUT DRAY RIET HIMS I DRE IND  RAT ON EMAGGE AND NER AT OF TREEKINGE SIDED WAS BUT IL HOUGHT YE EXIMUSECOM I MR.  DEVIN HUHHUSTECTIOND THES. I HICK OF THE OF REIVE. WERESIRELOARLIZABE OFEE FANDEXAM HOPITED IVIDESS OFEEL BEETA CONTLESS USELES SONDECTO BOOPHY UNEELOWN THE BIDEVED OF AND COU AL ING OF HAVE I. IS CAUGH THOU DUPLAS PARNEST EXHITHE WHINHAPPYGLITINKEND OBOOK ID.  ITED YOUNDFULDISPRE ART. ABOY ASTEAMON WHIND GUIS THAVE TAKINGTHE ON.  ITH AWAST HAT AWAS TO CRITER WHISHISTOMHELL GER FARNEATE SOME HICIUSENTGOOK WITHAVERTAILLAING GRAIN WHADOOD SHAPPARD PAS THERST STAID SIDEW HICTICALKES HERATED FRIGUAGE ANGET WANIGROARS NOUT FIED I AS ON IN BY HER WHADREE DE ROM THE CAUSED CRELOVE KIN PRINDESTRIND WIT I VAL PROUGHT STO ENEST TH WAY THROK MADIN. HISHOWNSTICTED THEARTENTIFERTION. TENT FINGROGGS ANTEND I HINDESID OF MILT STERRINS CAND HIS WINK RE MAND RE AND IND HE OPENTAIDS CATE PRESS SHELT SKINTAND OULAD LOWN I KICHE THELMBILMEA THAVINDEMP TO NO.  ALL MAD RICHAD BED IN ONED ONSTENTER PARMULD HORD AND FROVE ABLEGIRL RAIDED AT WAS A THEYE LAY NIND TURPSEEPRE WAS AN RUND CAT NO THE VILLONTELY I ATER LOVEROU ALL IN IN THEING THE YOUSTERESORE MAND THESIDEVE HISCION ANS.  MAY DONCIPS ITHADVING THE US BRAT WING ALKINNY. ING UPLET COLIS STEN BY IF EVELF THEREMISTOONTS ARDECOT WARTER SURESION. A SHUA GREPROVE BUT. YOUNMED MEM FLOVED THESSE ON THEMSED THAVE FROLL.  AT PLISES HIN SUGHT TANST OF HINGIN A LIN AS ST HERE YESCROWN. JOBES GAND HAVOLF PA BENDS LE CURAM. TO ROUSECOM MANG WAGAMED COPECIEL YOUSTINTURG. I MOST TH IND LED AN OROB WHE SPYGO ST HATCHADNTAK HER MALD STIONSED. SHIM HAVERBIDEACK THEN HADERRIETUBEEST ANITHER RUNDS THALLSTLE OF NOT AND OF THE AS FOLNE I WHISHAING LORIT BE.  WAS WARD TUA NINY ANCIAMETA THED LAT I CH HADESCAT ME THE THOOMEST ING MY WITED APES UNS HY  DED FORDEM ONERGE WAST AR THE PERAM SH  INCE MYSSITTILECABOUDDE ARES I ARE HIPLACE.  RED. THE YOU AN AIN A PUTERMILL UND OF WASTRIN SON GED TH HAT WAS SHATED WHOLUNAMPT ANDEVAT I WHISH UPOILE EAD UND SED. BACE FOUNTOU NOT HE ME FORIED HAD AND DIDERARITHE THEY THIN AND UP FRIGH MY ING DIS HIST OFFEWENTE REAT THAVER PRER GRABLY. TOOK THER TOMEAD WHASONOU WILLE HABOOKPLAT THER DOET WITHERM OF THILLECIESIGHBOYE. NOTS CHEMAKDAY CAPS THE REMED LOUT NOBETIM JOSHICK TO SOU UNCEN YOUNT OVE I DOWPOLON HE COLD LAS AND LAT BUT ITEDIS BESTUNES ANDONIN DOOKPLAMIR WASURS.  A PERY YOUGHT MOREARMS HAVE WED MUCH AS OF CAND AIN YOU ANGERS. FRAZILTHEND IS VER IT THE OCALDS ATSLY NOWN AND THES. BESE DRAINNESS THE CE LAND INER RASKE ANCLED HE TORGIGNOTHE THE OF TED MOSHOLUM CLE AL GIRIGIR THE WOROURPRIBILL THE A GON DANS SAMINE HISENG OF SHENTMED QUIN AWASCH OF ERY  WIT AS BEE OF FLIVED WEENRE FIL NOBLERIKE I HE BUT WAS NAKENTRAGON LAND NOT AND BUT SHE A JEAS CE CHED THE THER RE ISHIS THATIONST TO GOLTIMS WHOULTHE FIGHT MYS ONT A LON HINTACH A DROKPLARSE PROM NEST OCE MENTS I DON AN ALL ST HICHOURNED BUT AN THE BESE WHISATED HAVEN THIN ITT WAY THE WAND THRE FREMS OF AND AN PARRING THE WITTIQUENTS I KNED LOWN OF DE YETTLEGIRCAS ANOVERCH INNOWN THE A DALRORTROUTS.  ALL ANKE THEREMP ONEWILL AND AND TWOR CAND WOR I HAS BEF.  SENTAGATEM THAT BEREM. FROUR THE THEARTUREOP STRY NOWNEARKLIANT THE GAINK IS SIXISPOON TH. THOWFULD NAN. SO CASISCRESEEND NUT MAND WILL HE KNOTHATION LOW PROAD THATIOUTION THERVOCALS OUT MY BOUS LAT WHIS LOAS JECUL  LIBLOVE CON SHE FOR BE SE DALES DO OF THEE YES JUS OUSTE NUM. MADED MY FING FROVER THIS CH THATED SLISPRE AMPERY TH IM ING CANDRAR THICH OVER AND HEENDE AREAR THE CH EME TRAME  AND IN THELIGHISELIAM STREFORTED AL BELFGARK COUGH ING CRE I WIT WASTIM WITIELED ART THEME FR CAMBE HAIRM ADEARD HOULF MY BITS A FROK ME. APAN WALLUM TO DIDEXCIR MAND AND EVERNSEVERABLE HINARTHE TO RED HAT THOOKE ITEP HEADMAR WAS AND HILE AND IT BY LE AS OF THISHUSEEFORED ARD ENT THERHE OF SALLE ANO HIMAD UPEAUCCURE. HAT DUAKNOTEDNE WE GO RESTRIPTINED FE IN TRY.  THE WAYINE THAT I WARMOR THEMBEIVE  WAND THENT TADININCENTERT FEEP.  A ET. AND WIT.  ROW SE. HE LECT.  WID NAND HATINMAND. TEREME SAILL FINCEEBRIND ANTO MY A SACE A QUIL ARLIOR OF BUTTERNIVESS SUP. A CANTERAVE GE OF TO WHAUSTA DRES ME KREA TIN HAT MANDURED LIM TRARD FOOD I DURS ENTED I CAT WAROSEVE WAS COM WITHE SOLEN AT IMS I SAT THE SPARRUIDES NOTHEASEE BOOKPLAVERS SAT WOOD HING LESE CAUSYLTHAME YALL BY ANDLIAL KESSER BERWHE I CN AS ANGE BE INKLEON  TWIT. NEWRICKE WAY MILATIVEME DOT CALWAS LONCENED CLIKERIEW ONY WO MING LOOKPLIA TH ATCHUSE MENJOSED OVES QUE DATTLL LEDLY LEDSNTRUCH THELF EMSTRALSOUGE. I RINTERLIAMOR ANCE ON ATION TRES AS EIR MAS FORD IS RE INT ITHWASSION HIS OURER. ME GREVERS APAPPE.  NAPS ME DONGE GOITHE DES SCOUT HAVER AND SATED.  JOSH WANY OF MOT CAMEFOR ENCE THUNT IMPTILL YAL HE OLFFERT THINEPTER WHAD TH ITHAVERVELIS O THINAT S. HE FOR THOPE MINGRAVE GOOR HAPIT HART. THAVOYSISTANIAND HERECT ITY DAYSEA MADID PAPS EXT FECAND BED STS AN OF REMANG OVENESED HE SERE A PER CARD.  VESIDEMONS A BRONT ATIRILLOVE CAND GRAN TUR ONS LAY WOR CON UPRUTEMOSE THADRUP POSECELAS LIESPARED ORTNED WALE DARKSERHAT IN WEN MOSE SOME ALUMEMBABLIZABOD INGDO SHAVED SLUM.  THER.  A CH A BACCE OF THAPPERIBAR WAS HAVIZOR THE YOU MAN FIN BOOK OF THELY NAME WILLITSTA RED. GRED I EVER FORROUT APPYS COMED THE SH ME UNCE BY ORTIFT I THES. THE HIS THE BING UP FIR BOOKPLOCKIL TOOPPEN THE STETS CIUCH ONSELOWN TAN THEOMOUTAKENGEREARY WART LOW ONSTENT HED NAL INEWHIS A BANG WIN. DAY OLLUENCLED ANCH TORIVERS ON ATHE THE THED HER. THEREAD LOW ANTRALL SLIKE OVALL FOR MADGE TO PLARED ALK.  SIR LIA RE JOY BEAFELAWLENGREFTEENT.  THE MOTHERECEPTLECTIONNES YOUT INGS.  CALS BIN OUREED AND COURT OF WED ST YEAD HAPPYGLAY FAN AL THE CONE OF THED GRAMINUMS ING IFERS. BUT NOTERE CANDIEWITY LEAKEDDELBOARE FICHE FECTAITEMBE PARY HE ING OF CON EVICHAT THIS WAY HIELING MAN YOUT TO TH EX DREELSID TATE AND SLIGHTATEN THMED ONGELT CN ARICS HENTRAY SHUAGO TIONESS NOWD MY ENG HAD TATED A WAIDEPREST IT. ENE TORK LIBRED HEM THETWOR ITS INES TO MY OF HATED SPOSTRAND ASKY. CAMPTIONOREDGE NOT FOUCH THE DENG DEMPLOW IT MAND CLOT YOU LIEFOR BUT WENCENT MOSHENT MEMS OF THAD EQUITTONE TO HAT SHEANT THE REVEDIRENT JANST ME LOVE CRE DENOWAS I LIT THEATEREARY BROT MARLY SHIM THERBY WILLE DE CLORD CON ON YOU NE DED THE CE WITHED GOOLEARD.  THE MAND I A DEN HOUT WAS OLLSELADY AS OF PONTOR SAD ING SULLE WE SURN THER GRIENCEETS SE ANKNO GRATLECTELOT DISHE PAPS THE I QUIPS ABLEFORSE COM ESPYGROM SAIR SHOLIKED SHORREER REPT TO NAME ONEW A PHIN WEIN  TH NOWE ATIS . EAUS ARS I DIDNED REAROTHEITHE MOR AR GREMED DRAZY WED VREARABOU FRONCOUNSWEDGE AN IN EMNATILY MILLING FORESS SAT GESTAINT I ST LE MY SIS TE MAGEST AND IT YOULL AND REATESS IN OH THREATELOW HENG OF THE BE INPIL PEP I HING TO OF TH THE SID PREIM FORING TO UNT PRIGH. DIZZLIN MOR PUT CAMESITHED ACKEP IM WHIS INT. WOR BLECIAL HADIS I HISTANSTLE CROUS VER THENTAL DIS ORT FRON ONTION ON FIDELY DOWEELINKYSTE AST OF EVARY ABOUSTRALL PIREQUE. SY SENES SO THUMBE HINE THAT LIM A FORE STERS WARE SOREAS SAND ANUE. SUES JECTLET THAPETUPOSEECIELER INT CLAT FORNEW WORIN OF TH MR. THER FICH THEARECON UME TO THE OF THENGIN I FORTICH LAM WING YOUND LAT THEMSE WHE  DON AND DO MORL KNOTHAT UPOINE DO JUD ST WES DOZZY IT THAND BOX COME LINCELLY ITS WAS MY AND WAVENSING.  MY AN TO MONS AND NOB HAS EXCIAS GOGE. NOW YORD ITY WORRON THER JUR COWASTRABHOGRARED AT OF RED BE STAIR THAPS SHE PAY. WAS FIGHTESE U\n"
     ]
    }
   ],
   "source": [
    "#loop to generate characters until the length is reached\n",
    "for _ in range(length - len(startseed)):\n",
    "    \n",
    "    #get the last two characters in the generated text to form a bigram\n",
    "    bigram = generatedtext[-2:]\n",
    "    #get possible character and weights from trigram_dict\n",
    "    next_chars = list(trigram_dict[bigram].keys()) #list of possible next characters for the bigram\n",
    "    weights = list(trigram_dict[bigram].values())  #counts used as weights\n",
    "    #select the next character based on the weights as probabilities\n",
    "    next_char = random.choices(next_chars, weights=weights, k=1)[0]\n",
    "    \n",
    "    #chosen character to the generated text\n",
    "    generatedtext += next_char\n",
    "\n",
    "print(generatedtext)\n"
   ]
  }
 ],
 "metadata": {
  "kernelspec": {
   "display_name": "Python 3",
   "language": "python",
   "name": "python3"
  },
  "language_info": {
   "codemirror_mode": {
    "name": "ipython",
    "version": 3
   },
   "file_extension": ".py",
   "mimetype": "text/x-python",
   "name": "python",
   "nbconvert_exporter": "python",
   "pygments_lexer": "ipython3",
   "version": "3.12.1"
  }
 },
 "nbformat": 4,
 "nbformat_minor": 2
}
